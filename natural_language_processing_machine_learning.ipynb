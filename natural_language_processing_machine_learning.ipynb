{
  "nbformat": 4,
  "nbformat_minor": 0,
  "metadata": {
    "colab": {
      "name": "submission pengembangan ML dicoding 1.ipynb",
      "provenance": []
    },
    "kernelspec": {
      "name": "python3",
      "display_name": "Python 3"
    },
    "language_info": {
      "name": "python"
    }
  },
  "cells": [
    {
      "cell_type": "code",
      "metadata": {
        "colab": {
          "base_uri": "https://localhost:8080/",
          "height": 197
        },
        "id": "4f2eLRQWE-LX",
        "outputId": "671b5e18-20a9-4c23-e2d1-34939d2475da"
      },
      "source": [
        "import pandas as pd\n",
        "\n",
        "# read csv review tokopedia\n",
        "df = pd.read_csv('/content/drive/MyDrive/nlp_project/review_tokped.csv')\n",
        "df.head()"
      ],
      "execution_count": 1,
      "outputs": [
        {
          "output_type": "execute_result",
          "data": {
            "text/html": [
              "<div>\n",
              "<style scoped>\n",
              "    .dataframe tbody tr th:only-of-type {\n",
              "        vertical-align: middle;\n",
              "    }\n",
              "\n",
              "    .dataframe tbody tr th {\n",
              "        vertical-align: top;\n",
              "    }\n",
              "\n",
              "    .dataframe thead th {\n",
              "        text-align: right;\n",
              "    }\n",
              "</style>\n",
              "<table border=\"1\" class=\"dataframe\">\n",
              "  <thead>\n",
              "    <tr style=\"text-align: right;\">\n",
              "      <th></th>\n",
              "      <th>Review</th>\n",
              "      <th>Rating</th>\n",
              "      <th>Sentiment</th>\n",
              "    </tr>\n",
              "  </thead>\n",
              "  <tbody>\n",
              "    <tr>\n",
              "      <th>0</th>\n",
              "      <td>enak kuacinya</td>\n",
              "      <td>5</td>\n",
              "      <td>positive</td>\n",
              "    </tr>\n",
              "    <tr>\n",
              "      <th>1</th>\n",
              "      <td>pengiriman cepat packing bagus sesuai pesanan ...</td>\n",
              "      <td>5</td>\n",
              "      <td>positive</td>\n",
              "    </tr>\n",
              "    <tr>\n",
              "      <th>2</th>\n",
              "      <td>pengemasan luar biasa baik untuk rasa menurut ...</td>\n",
              "      <td>4</td>\n",
              "      <td>negative</td>\n",
              "    </tr>\n",
              "    <tr>\n",
              "      <th>3</th>\n",
              "      <td>terimakasih min</td>\n",
              "      <td>5</td>\n",
              "      <td>neutral</td>\n",
              "    </tr>\n",
              "    <tr>\n",
              "      <th>4</th>\n",
              "      <td>udah order untuk kesekian kali jos</td>\n",
              "      <td>5</td>\n",
              "      <td>neutral</td>\n",
              "    </tr>\n",
              "  </tbody>\n",
              "</table>\n",
              "</div>"
            ],
            "text/plain": [
              "                                              Review  Rating Sentiment\n",
              "0                                      enak kuacinya       5  positive\n",
              "1  pengiriman cepat packing bagus sesuai pesanan ...       5  positive\n",
              "2  pengemasan luar biasa baik untuk rasa menurut ...       4  negative\n",
              "3                                    terimakasih min       5   neutral\n",
              "4                 udah order untuk kesekian kali jos       5   neutral"
            ]
          },
          "metadata": {
            "tags": []
          },
          "execution_count": 1
        }
      ]
    },
    {
      "cell_type": "code",
      "metadata": {
        "colab": {
          "base_uri": "https://localhost:8080/"
        },
        "id": "_iY9ugvqlRtc",
        "outputId": "433db685-7681-454a-850b-59b12e2bf0b2"
      },
      "source": [
        "# melihat jumlah data\n",
        "df.shape"
      ],
      "execution_count": 2,
      "outputs": [
        {
          "output_type": "execute_result",
          "data": {
            "text/plain": [
              "(4060, 3)"
            ]
          },
          "metadata": {
            "tags": []
          },
          "execution_count": 2
        }
      ]
    },
    {
      "cell_type": "code",
      "metadata": {
        "colab": {
          "base_uri": "https://localhost:8080/",
          "height": 197
        },
        "id": "WWzTT40iFTCe",
        "outputId": "b8c29c81-cb48-4c01-da2a-3ee95af06509"
      },
      "source": [
        "# Menghapus kolom Rating\n",
        "df = df.drop(columns='Rating')\n",
        "df.head()"
      ],
      "execution_count": 3,
      "outputs": [
        {
          "output_type": "execute_result",
          "data": {
            "text/html": [
              "<div>\n",
              "<style scoped>\n",
              "    .dataframe tbody tr th:only-of-type {\n",
              "        vertical-align: middle;\n",
              "    }\n",
              "\n",
              "    .dataframe tbody tr th {\n",
              "        vertical-align: top;\n",
              "    }\n",
              "\n",
              "    .dataframe thead th {\n",
              "        text-align: right;\n",
              "    }\n",
              "</style>\n",
              "<table border=\"1\" class=\"dataframe\">\n",
              "  <thead>\n",
              "    <tr style=\"text-align: right;\">\n",
              "      <th></th>\n",
              "      <th>Review</th>\n",
              "      <th>Sentiment</th>\n",
              "    </tr>\n",
              "  </thead>\n",
              "  <tbody>\n",
              "    <tr>\n",
              "      <th>0</th>\n",
              "      <td>enak kuacinya</td>\n",
              "      <td>positive</td>\n",
              "    </tr>\n",
              "    <tr>\n",
              "      <th>1</th>\n",
              "      <td>pengiriman cepat packing bagus sesuai pesanan ...</td>\n",
              "      <td>positive</td>\n",
              "    </tr>\n",
              "    <tr>\n",
              "      <th>2</th>\n",
              "      <td>pengemasan luar biasa baik untuk rasa menurut ...</td>\n",
              "      <td>negative</td>\n",
              "    </tr>\n",
              "    <tr>\n",
              "      <th>3</th>\n",
              "      <td>terimakasih min</td>\n",
              "      <td>neutral</td>\n",
              "    </tr>\n",
              "    <tr>\n",
              "      <th>4</th>\n",
              "      <td>udah order untuk kesekian kali jos</td>\n",
              "      <td>neutral</td>\n",
              "    </tr>\n",
              "  </tbody>\n",
              "</table>\n",
              "</div>"
            ],
            "text/plain": [
              "                                              Review Sentiment\n",
              "0                                      enak kuacinya  positive\n",
              "1  pengiriman cepat packing bagus sesuai pesanan ...  positive\n",
              "2  pengemasan luar biasa baik untuk rasa menurut ...  negative\n",
              "3                                    terimakasih min   neutral\n",
              "4                 udah order untuk kesekian kali jos   neutral"
            ]
          },
          "metadata": {
            "tags": []
          },
          "execution_count": 3
        }
      ]
    },
    {
      "cell_type": "code",
      "metadata": {
        "colab": {
          "base_uri": "https://localhost:8080/",
          "height": 197
        },
        "id": "qMYd2-RVFbSs",
        "outputId": "c9703ff2-c1e1-4047-efcf-a463b244cdc5"
      },
      "source": [
        "# Melakukan one-hot-encoding pada kolom Sentiment\n",
        "df_baru = pd.get_dummies(df.Sentiment)\n",
        "df_baru.head()"
      ],
      "execution_count": 4,
      "outputs": [
        {
          "output_type": "execute_result",
          "data": {
            "text/html": [
              "<div>\n",
              "<style scoped>\n",
              "    .dataframe tbody tr th:only-of-type {\n",
              "        vertical-align: middle;\n",
              "    }\n",
              "\n",
              "    .dataframe tbody tr th {\n",
              "        vertical-align: top;\n",
              "    }\n",
              "\n",
              "    .dataframe thead th {\n",
              "        text-align: right;\n",
              "    }\n",
              "</style>\n",
              "<table border=\"1\" class=\"dataframe\">\n",
              "  <thead>\n",
              "    <tr style=\"text-align: right;\">\n",
              "      <th></th>\n",
              "      <th>negative</th>\n",
              "      <th>neutral</th>\n",
              "      <th>positive</th>\n",
              "    </tr>\n",
              "  </thead>\n",
              "  <tbody>\n",
              "    <tr>\n",
              "      <th>0</th>\n",
              "      <td>0</td>\n",
              "      <td>0</td>\n",
              "      <td>1</td>\n",
              "    </tr>\n",
              "    <tr>\n",
              "      <th>1</th>\n",
              "      <td>0</td>\n",
              "      <td>0</td>\n",
              "      <td>1</td>\n",
              "    </tr>\n",
              "    <tr>\n",
              "      <th>2</th>\n",
              "      <td>1</td>\n",
              "      <td>0</td>\n",
              "      <td>0</td>\n",
              "    </tr>\n",
              "    <tr>\n",
              "      <th>3</th>\n",
              "      <td>0</td>\n",
              "      <td>1</td>\n",
              "      <td>0</td>\n",
              "    </tr>\n",
              "    <tr>\n",
              "      <th>4</th>\n",
              "      <td>0</td>\n",
              "      <td>1</td>\n",
              "      <td>0</td>\n",
              "    </tr>\n",
              "  </tbody>\n",
              "</table>\n",
              "</div>"
            ],
            "text/plain": [
              "   negative  neutral  positive\n",
              "0         0        0         1\n",
              "1         0        0         1\n",
              "2         1        0         0\n",
              "3         0        1         0\n",
              "4         0        1         0"
            ]
          },
          "metadata": {
            "tags": []
          },
          "execution_count": 4
        }
      ]
    },
    {
      "cell_type": "code",
      "metadata": {
        "colab": {
          "base_uri": "https://localhost:8080/",
          "height": 197
        },
        "id": "6skCSFXhFlr_",
        "outputId": "4c853b74-8576-4666-9c79-084a4616bb96"
      },
      "source": [
        "# Menggabungkan dataframe df dengan df_baru hasil one-hot-encoding\n",
        "df_baru = pd.concat([df, df_baru], axis=1)\n",
        "df_baru.head()"
      ],
      "execution_count": 5,
      "outputs": [
        {
          "output_type": "execute_result",
          "data": {
            "text/html": [
              "<div>\n",
              "<style scoped>\n",
              "    .dataframe tbody tr th:only-of-type {\n",
              "        vertical-align: middle;\n",
              "    }\n",
              "\n",
              "    .dataframe tbody tr th {\n",
              "        vertical-align: top;\n",
              "    }\n",
              "\n",
              "    .dataframe thead th {\n",
              "        text-align: right;\n",
              "    }\n",
              "</style>\n",
              "<table border=\"1\" class=\"dataframe\">\n",
              "  <thead>\n",
              "    <tr style=\"text-align: right;\">\n",
              "      <th></th>\n",
              "      <th>Review</th>\n",
              "      <th>Sentiment</th>\n",
              "      <th>negative</th>\n",
              "      <th>neutral</th>\n",
              "      <th>positive</th>\n",
              "    </tr>\n",
              "  </thead>\n",
              "  <tbody>\n",
              "    <tr>\n",
              "      <th>0</th>\n",
              "      <td>enak kuacinya</td>\n",
              "      <td>positive</td>\n",
              "      <td>0</td>\n",
              "      <td>0</td>\n",
              "      <td>1</td>\n",
              "    </tr>\n",
              "    <tr>\n",
              "      <th>1</th>\n",
              "      <td>pengiriman cepat packing bagus sesuai pesanan ...</td>\n",
              "      <td>positive</td>\n",
              "      <td>0</td>\n",
              "      <td>0</td>\n",
              "      <td>1</td>\n",
              "    </tr>\n",
              "    <tr>\n",
              "      <th>2</th>\n",
              "      <td>pengemasan luar biasa baik untuk rasa menurut ...</td>\n",
              "      <td>negative</td>\n",
              "      <td>1</td>\n",
              "      <td>0</td>\n",
              "      <td>0</td>\n",
              "    </tr>\n",
              "    <tr>\n",
              "      <th>3</th>\n",
              "      <td>terimakasih min</td>\n",
              "      <td>neutral</td>\n",
              "      <td>0</td>\n",
              "      <td>1</td>\n",
              "      <td>0</td>\n",
              "    </tr>\n",
              "    <tr>\n",
              "      <th>4</th>\n",
              "      <td>udah order untuk kesekian kali jos</td>\n",
              "      <td>neutral</td>\n",
              "      <td>0</td>\n",
              "      <td>1</td>\n",
              "      <td>0</td>\n",
              "    </tr>\n",
              "  </tbody>\n",
              "</table>\n",
              "</div>"
            ],
            "text/plain": [
              "                                              Review  ... positive\n",
              "0                                      enak kuacinya  ...        1\n",
              "1  pengiriman cepat packing bagus sesuai pesanan ...  ...        1\n",
              "2  pengemasan luar biasa baik untuk rasa menurut ...  ...        0\n",
              "3                                    terimakasih min  ...        0\n",
              "4                 udah order untuk kesekian kali jos  ...        0\n",
              "\n",
              "[5 rows x 5 columns]"
            ]
          },
          "metadata": {
            "tags": []
          },
          "execution_count": 5
        }
      ]
    },
    {
      "cell_type": "code",
      "metadata": {
        "colab": {
          "base_uri": "https://localhost:8080/",
          "height": 197
        },
        "id": "uGT425khF07h",
        "outputId": "47e012d0-0067-4ee8-867a-efc514fa3caa"
      },
      "source": [
        "# Menghapus kolom Sentiment\n",
        "df_baru = df_baru.drop(columns='Sentiment')\n",
        "df_baru.head()"
      ],
      "execution_count": 6,
      "outputs": [
        {
          "output_type": "execute_result",
          "data": {
            "text/html": [
              "<div>\n",
              "<style scoped>\n",
              "    .dataframe tbody tr th:only-of-type {\n",
              "        vertical-align: middle;\n",
              "    }\n",
              "\n",
              "    .dataframe tbody tr th {\n",
              "        vertical-align: top;\n",
              "    }\n",
              "\n",
              "    .dataframe thead th {\n",
              "        text-align: right;\n",
              "    }\n",
              "</style>\n",
              "<table border=\"1\" class=\"dataframe\">\n",
              "  <thead>\n",
              "    <tr style=\"text-align: right;\">\n",
              "      <th></th>\n",
              "      <th>Review</th>\n",
              "      <th>negative</th>\n",
              "      <th>neutral</th>\n",
              "      <th>positive</th>\n",
              "    </tr>\n",
              "  </thead>\n",
              "  <tbody>\n",
              "    <tr>\n",
              "      <th>0</th>\n",
              "      <td>enak kuacinya</td>\n",
              "      <td>0</td>\n",
              "      <td>0</td>\n",
              "      <td>1</td>\n",
              "    </tr>\n",
              "    <tr>\n",
              "      <th>1</th>\n",
              "      <td>pengiriman cepat packing bagus sesuai pesanan ...</td>\n",
              "      <td>0</td>\n",
              "      <td>0</td>\n",
              "      <td>1</td>\n",
              "    </tr>\n",
              "    <tr>\n",
              "      <th>2</th>\n",
              "      <td>pengemasan luar biasa baik untuk rasa menurut ...</td>\n",
              "      <td>1</td>\n",
              "      <td>0</td>\n",
              "      <td>0</td>\n",
              "    </tr>\n",
              "    <tr>\n",
              "      <th>3</th>\n",
              "      <td>terimakasih min</td>\n",
              "      <td>0</td>\n",
              "      <td>1</td>\n",
              "      <td>0</td>\n",
              "    </tr>\n",
              "    <tr>\n",
              "      <th>4</th>\n",
              "      <td>udah order untuk kesekian kali jos</td>\n",
              "      <td>0</td>\n",
              "      <td>1</td>\n",
              "      <td>0</td>\n",
              "    </tr>\n",
              "  </tbody>\n",
              "</table>\n",
              "</div>"
            ],
            "text/plain": [
              "                                              Review  ...  positive\n",
              "0                                      enak kuacinya  ...         1\n",
              "1  pengiriman cepat packing bagus sesuai pesanan ...  ...         1\n",
              "2  pengemasan luar biasa baik untuk rasa menurut ...  ...         0\n",
              "3                                    terimakasih min  ...         0\n",
              "4                 udah order untuk kesekian kali jos  ...         0\n",
              "\n",
              "[5 rows x 4 columns]"
            ]
          },
          "metadata": {
            "tags": []
          },
          "execution_count": 6
        }
      ]
    },
    {
      "cell_type": "code",
      "metadata": {
        "colab": {
          "base_uri": "https://localhost:8080/"
        },
        "id": "rEKEvLXFF_2Y",
        "outputId": "f6a69bf2-8657-4026-cfbb-7a158bc0de5f"
      },
      "source": [
        "# Mengubah dataframe menjadi numpy array\n",
        "review = df_baru.Review.values\n",
        "label = df_baru[['negative', 'neutral', 'positive']].values\n",
        "label"
      ],
      "execution_count": 7,
      "outputs": [
        {
          "output_type": "execute_result",
          "data": {
            "text/plain": [
              "array([[0, 0, 1],\n",
              "       [0, 0, 1],\n",
              "       [1, 0, 0],\n",
              "       ...,\n",
              "       [0, 0, 1],\n",
              "       [0, 1, 0],\n",
              "       [0, 1, 0]], dtype=uint8)"
            ]
          },
          "metadata": {
            "tags": []
          },
          "execution_count": 7
        }
      ]
    },
    {
      "cell_type": "code",
      "metadata": {
        "id": "_MIMtjPJGN61"
      },
      "source": [
        "from sklearn.model_selection import train_test_split\n",
        "\n",
        "# Membagi data menjadi 80% training dan 20% testing\n",
        "review_train, review_test, label_train, label_test = train_test_split(review, label, test_size=0.2, random_state=32)"
      ],
      "execution_count": 8,
      "outputs": []
    },
    {
      "cell_type": "code",
      "metadata": {
        "id": "n0wn_qiYGyYL"
      },
      "source": [
        "from tensorflow.keras.preprocessing.text import Tokenizer\n",
        "from tensorflow.keras.preprocessing.sequence import pad_sequences\n",
        "\n",
        "# Melakukan tokenizer\n",
        "tokenizer = Tokenizer(num_words=5000, oov_token='-')\n",
        "tokenizer.fit_on_texts(review_train)\n",
        "tokenizer.fit_on_texts(review_test)\n",
        "\n",
        "# Mengubah teks menjadi sequences\n",
        "train_sequeces = tokenizer.texts_to_sequences(review_train)\n",
        "test_sequeces = tokenizer.texts_to_sequences(review_test)\n",
        "\n",
        "train_padded = pad_sequences(train_sequeces)\n",
        "test_padded = pad_sequences(test_sequeces)"
      ],
      "execution_count": 9,
      "outputs": []
    },
    {
      "cell_type": "code",
      "metadata": {
        "id": "NHCk-9O0IFoI"
      },
      "source": [
        "import tensorflow as tf\n",
        "\n",
        "# Membuat class callback\n",
        "class myCallback(tf.keras.callbacks.Callback): \n",
        "    def on_epoch_end(self, epoch, logs={}): \n",
        "        if(logs.get('accuracy')>0.8):\n",
        "          print(f\"\\nTraining dihentikan, accuracy mencapai {logs.get('accuracy')*100}%\")   \n",
        "          self.model.stop_training = True\n",
        "\n",
        "callbacks = myCallback()\n",
        "\n",
        "# Membuat model\n",
        "model = tf.keras.Sequential([\n",
        "                             tf.keras.layers.Embedding(input_dim=5000, output_dim=8),\n",
        "                             tf.keras.layers.LSTM(128, dropout=0.3, kernel_regularizer=tf.keras.regularizers.l2(0.001)),\n",
        "                             tf.keras.layers.Dense(64, activation=tf.nn.relu, kernel_regularizer=tf.keras.regularizers.l2(0.001)),\n",
        "                             tf.keras.layers.Dropout(0.3),\n",
        "                             tf.keras.layers.Dense(32, activation=tf.nn.relu, kernel_regularizer=tf.keras.regularizers.l2(0.001)),\n",
        "                             tf.keras.layers.Dropout(0.3),\n",
        "                             tf.keras.layers.Dense(3, activation=tf.keras.activations.softmax)\n",
        "                             ])\n",
        "# Mengcompile model\n",
        "model.compile(\n",
        "    loss='categorical_crossentropy',\n",
        "    optimizer=tf.optimizers.Adamax(learning_rate=0.001),\n",
        "    metrics=['accuracy']\n",
        ")"
      ],
      "execution_count": 10,
      "outputs": []
    },
    {
      "cell_type": "code",
      "metadata": {
        "colab": {
          "base_uri": "https://localhost:8080/"
        },
        "id": "sy4iRfpmJRlS",
        "outputId": "67abe08a-51ad-438a-f0ae-ec7e48575b8c"
      },
      "source": [
        "# Melatih model\n",
        "history = model.fit(\n",
        "    train_padded,\n",
        "    label_train,\n",
        "    epochs=30,\n",
        "    validation_data=(test_padded, label_test),\n",
        "    verbose=1,\n",
        "    callbacks=[callbacks]\n",
        ")"
      ],
      "execution_count": 11,
      "outputs": [
        {
          "output_type": "stream",
          "text": [
            "Epoch 1/30\n",
            "102/102 [==============================] - 21s 180ms/step - loss: 0.9902 - accuracy: 0.7032 - val_loss: 0.8578 - val_accuracy: 0.7303\n",
            "Epoch 2/30\n",
            "102/102 [==============================] - 18s 173ms/step - loss: 0.9121 - accuracy: 0.7109 - val_loss: 0.8532 - val_accuracy: 0.7303\n",
            "Epoch 3/30\n",
            "102/102 [==============================] - 18s 173ms/step - loss: 0.8871 - accuracy: 0.7112 - val_loss: 0.8360 - val_accuracy: 0.7303\n",
            "Epoch 4/30\n",
            "102/102 [==============================] - 18s 173ms/step - loss: 0.8586 - accuracy: 0.7112 - val_loss: 0.8033 - val_accuracy: 0.7303\n",
            "Epoch 5/30\n",
            "102/102 [==============================] - 18s 173ms/step - loss: 0.8084 - accuracy: 0.7112 - val_loss: 0.7297 - val_accuracy: 0.7303\n",
            "Epoch 6/30\n",
            "102/102 [==============================] - 18s 174ms/step - loss: 0.7511 - accuracy: 0.7112 - val_loss: 0.6996 - val_accuracy: 0.7303\n",
            "Epoch 7/30\n",
            "102/102 [==============================] - 18s 173ms/step - loss: 0.7171 - accuracy: 0.7112 - val_loss: 0.6969 - val_accuracy: 0.7303\n",
            "Epoch 8/30\n",
            "102/102 [==============================] - 18s 173ms/step - loss: 0.6992 - accuracy: 0.7124 - val_loss: 0.6704 - val_accuracy: 0.7414\n",
            "Epoch 9/30\n",
            "102/102 [==============================] - 18s 174ms/step - loss: 0.6822 - accuracy: 0.7442 - val_loss: 0.6575 - val_accuracy: 0.7586\n",
            "Epoch 10/30\n",
            "102/102 [==============================] - 18s 174ms/step - loss: 0.6683 - accuracy: 0.7651 - val_loss: 0.6561 - val_accuracy: 0.7586\n",
            "Epoch 11/30\n",
            "102/102 [==============================] - 18s 173ms/step - loss: 0.6505 - accuracy: 0.7654 - val_loss: 0.6311 - val_accuracy: 0.7623\n",
            "Epoch 12/30\n",
            "102/102 [==============================] - 18s 173ms/step - loss: 0.6259 - accuracy: 0.7786 - val_loss: 0.6219 - val_accuracy: 0.7685\n",
            "Epoch 13/30\n",
            "102/102 [==============================] - 18s 176ms/step - loss: 0.6137 - accuracy: 0.7789 - val_loss: 0.6102 - val_accuracy: 0.7685\n",
            "Epoch 14/30\n",
            "102/102 [==============================] - 18s 174ms/step - loss: 0.5975 - accuracy: 0.7851 - val_loss: 0.5967 - val_accuracy: 0.7746\n",
            "Epoch 15/30\n",
            "102/102 [==============================] - 18s 173ms/step - loss: 0.5848 - accuracy: 0.7894 - val_loss: 0.5959 - val_accuracy: 0.7722\n",
            "Epoch 16/30\n",
            "102/102 [==============================] - 18s 174ms/step - loss: 0.5802 - accuracy: 0.7888 - val_loss: 0.5950 - val_accuracy: 0.7722\n",
            "Epoch 17/30\n",
            "102/102 [==============================] - 18s 175ms/step - loss: 0.5614 - accuracy: 0.7965 - val_loss: 0.5779 - val_accuracy: 0.7833\n",
            "Epoch 18/30\n",
            "102/102 [==============================] - 18s 173ms/step - loss: 0.5507 - accuracy: 0.7965 - val_loss: 0.5828 - val_accuracy: 0.7672\n",
            "Epoch 19/30\n",
            "102/102 [==============================] - 18s 174ms/step - loss: 0.5335 - accuracy: 0.8008 - val_loss: 0.5686 - val_accuracy: 0.7845\n",
            "\n",
            "Training dihentikan, accuracy mencapai 80.08005023002625%\n"
          ],
          "name": "stdout"
        }
      ]
    },
    {
      "cell_type": "code",
      "metadata": {
        "id": "PvMPQId0KYmz",
        "colab": {
          "base_uri": "https://localhost:8080/",
          "height": 312
        },
        "outputId": "8f013879-4470-4150-e726-9839a9f36a4a"
      },
      "source": [
        "import matplotlib.pyplot as plt\n",
        "akurasi = history.history['accuracy']\n",
        "val_akurasi = history.history['val_accuracy']\n",
        "loss = history.history['loss']\n",
        "val_loss = history.history['val_loss']\n",
        "\n",
        "epochs = range(len(akurasi))\n",
        "\n",
        "plt.plot(epochs, akurasi, 'r', label='Akurasi Training')\n",
        "plt.plot(epochs, loss, 'r', marker='.', label='Loss Training')\n",
        "plt.plot(epochs, val_akurasi, 'b', label='Akurasi Validasi')\n",
        "plt.plot(epochs, val_loss, 'b', marker='.', label='Loss Validasi')\n",
        "plt.xlabel('Epochs')\n",
        "plt.ylabel('Akurasi')\n",
        "plt.title('Akurasi Training dan Validasi')\n",
        "plt.legend()\n",
        "plt.figure()\n",
        "\n",
        "plt.show()"
      ],
      "execution_count": 12,
      "outputs": [
        {
          "output_type": "display_data",
          "data": {
            "image/png": "[encoded data removed]",
            "text/plain": [
              "<Figure size 432x288 with 1 Axes>"
            ]
          },
          "metadata": {
            "tags": [],
            "needs_background": "light"
          }
        },
        {
          "output_type": "display_data",
          "data": {
            "text/plain": [
              "<Figure size 432x288 with 0 Axes>"
            ]
          },
          "metadata": {
            "tags": []
          }
        }
      ]
    },
    {
      "cell_type": "markdown",
      "metadata": {
        "id": "04ylCTj0k9b8"
      },
      "source": [
        "Nama : Tomi Nurhidayat\n",
        "\n",
        "E-mail : tomi.nurhidayat933@gmail.com"
      ]
    }
  ]
}